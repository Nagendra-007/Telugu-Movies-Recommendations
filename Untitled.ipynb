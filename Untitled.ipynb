{
 "cells": [
  {
   "cell_type": "code",
   "execution_count": 1,
   "metadata": {},
   "outputs": [],
   "source": [
    "import numpy as np\n",
    "import pandas as pd\n",
    "#from flask import Flask, render_template, request\n",
    "from sklearn.feature_extraction.text import CountVectorizer\n",
    "from sklearn.metrics.pairwise import cosine_similarity\n",
    "\n",
    "\n",
    "\n",
    "def create_similarity():\n",
    "    data = pd.read_csv('final_data.csv')\n",
    "    #features = ['keywords','cast','genres','director']\n",
    "    features = ['Title','Director','Cast','genres','combo']\n",
    "    for feature in features:\n",
    "        data[feature] = data[feature].fillna('')\n",
    "\n",
    "    # creating a count matrix\n",
    "    cv = CountVectorizer()\n",
    "    count_matrix = cv.fit_transform(data['combo'])\n",
    "    # creating a similarity score matrix\n",
    "    similarity = cosine_similarity(count_matrix)\n",
    "    return data,similarity\n",
    "\n",
    "\n",
    "def rcmd(m):\n",
    "    m = m.lower()\n",
    "    try:\n",
    "        data.head()\n",
    "        similarity.shape\n",
    "    except:\n",
    "        data, similarity = create_similarity()\n",
    "    if m not in data['Title'].unique():\n",
    "        return('Sorry! The movie you requested is not in our database. Please check the spelling or try with some other movies this is nag')\n",
    "    else:\n",
    "        i = data.loc[data['Title']==m].index[0]\n",
    "        lst = list(enumerate(similarity[i]))\n",
    "        lst = sorted(lst, key = lambda x:x[1] ,reverse=True)\n",
    "        lst = lst[1:11] # excluding first item since it is the requested movie itself\n",
    "        l = []\n",
    "        for i in range(len(lst)):\n",
    "            a = lst[i][0]\n",
    "            l.append(data['Title'][a])\n",
    "        return l\n",
    "\n"
   ]
  },
  {
   "cell_type": "code",
   "execution_count": 2,
   "metadata": {},
   "outputs": [],
   "source": [
    "def similarity():\n",
    "    movie = 'Ala vaikunthapurramloo'\n",
    "    rc = rcmd(movie)\n",
    "    if type(rc)==type('string'):\n",
    "        return rc\n",
    "    else:\n",
    "        m_str=\"---\".join(rc)\n",
    "        return m_str"
   ]
  },
  {
   "cell_type": "code",
   "execution_count": 3,
   "metadata": {},
   "outputs": [],
   "source": [
    "def get_movie_posters(arr, my_api_key):\n",
    "    arr_poster_list= []\n",
    "    for m in range(len(arr)):\n",
    "        result = tmdb_movie.search(arr[m])\n",
    "        if len(result)!=0:\n",
    "            movie_id = result[0].id\n",
    "            response = requests.get('https://api.themoviedb.org/3/movie/{}?api_key={}'.format(movie_id,my_api_key))\n",
    "        #response = requests.get('https://api.themoviedb.org/3/search/movie?api_key={}&query={}'.format(my_api_key,x))\n",
    "        data_json = response.json()\n",
    "        if data_json['poster_path'] == None:\n",
    "            poster = 'https://image.tmdb.org/t/p/original/'+str(data_json['poster_path'])\n",
    "        else:\n",
    "            poster = 'https://image.tmdb.org/t/p/original'+str(data_json['poster_path'])\n",
    "        arr_poster_list.append(poster)\n",
    "    return arr_poster_list\n"
   ]
  },
  {
   "cell_type": "code",
   "execution_count": 4,
   "metadata": {},
   "outputs": [
    {
     "data": {
      "text/plain": [
       "['https://image.tmdb.org/t/p/original/oQq3FMD952F8Rnu619O2boTK1Do.jpg',\n",
       " 'https://image.tmdb.org/t/p/original/tIUBifudyRCKhF1utslaDoDRteW.jpg',\n",
       " 'https://image.tmdb.org/t/p/original/rLJ3xyM5iFCfXNSbDOkGZ5ms6oX.jpg',\n",
       " 'https://image.tmdb.org/t/p/original/9EMsO8a27m4CWJZz1WXLRXWakkN.jpg',\n",
       " 'https://image.tmdb.org/t/p/original/otUJDQz8givDbASgHuwYMTuGPtC.jpg',\n",
       " 'https://image.tmdb.org/t/p/original/None',\n",
       " 'https://image.tmdb.org/t/p/original/None',\n",
       " 'https://image.tmdb.org/t/p/original/gbjCNbcEyms9ctxTUl8yZmANQ2z.jpg',\n",
       " 'https://image.tmdb.org/t/p/original/i3gFyjzp5qTiFCwxCr1n59Ak6dA.jpg',\n",
       " 'https://image.tmdb.org/t/p/original/lbG8xZlRnSpEAFEswG85suN1erA.jpg']"
      ]
     },
     "execution_count": 4,
     "metadata": {},
     "output_type": "execute_result"
    }
   ],
   "source": [
    "from tmdbv3api import TMDb\n",
    "import json\n",
    "import requests\n",
    "tmdb = TMDb()\n",
    "from tmdbv3api import Movie\n",
    "tmdb_movie = Movie()\n",
    "my_api_key = 'b9ced13cef8a3661119db0261c88818e'\n",
    "tmdb.api_key = my_api_key\n",
    "p = similarity()\n",
    "movie_arr = p.split('---'); \n",
    "lis = get_movie_posters(movie_arr,tmdb.api_key)\n",
    "lis"
   ]
  },
  {
   "cell_type": "code",
   "execution_count": null,
   "metadata": {},
   "outputs": [],
   "source": []
  }
 ],
 "metadata": {
  "kernelspec": {
   "display_name": "Python 3",
   "language": "python",
   "name": "python3"
  },
  "language_info": {
   "codemirror_mode": {
    "name": "ipython",
    "version": 3
   },
   "file_extension": ".py",
   "mimetype": "text/x-python",
   "name": "python",
   "nbconvert_exporter": "python",
   "pygments_lexer": "ipython3",
   "version": "3.8.3"
  }
 },
 "nbformat": 4,
 "nbformat_minor": 4
}
